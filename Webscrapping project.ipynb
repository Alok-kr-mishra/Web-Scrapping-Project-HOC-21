{
  "nbformat": 4,
  "nbformat_minor": 0,
  "metadata": {
    "colab": {
      "name": "Python_Project_Alok_Kumar_Mishra.ipynb",
      "provenance": [],
      "collapsed_sections": []
    },
    "kernelspec": {
      "name": "python3",
      "display_name": "Python 3"
    },
    "language_info": {
      "name": "python"
    }
  },
  "cells": [
    {
      "cell_type": "code",
      "metadata": {
        "id": "oBNwFM4CAMtD"
      },
      "source": [
        "import requests\n",
        "from bs4 import BeautifulSoup\n",
        "import pandas as pd\n",
        "\n",
        "# Make a request to https://www.worldometers.info/coronavirus/countries-where-coronavirus-has-spread/\n",
        "\n",
        "# Store the result in 'res' variable\n",
        "res = requests.get(\n",
        "    'https://www.worldometers.info/coronavirus/countries-where-coronavirus-has-spread/')\n",
        "txt = res.text\n",
        "status = res.status_code\n",
        "\n",
        "print(txt)\n",
        "# print the result"
      ],
      "execution_count": null,
      "outputs": []
    },
    {
      "cell_type": "code",
      "metadata": {
        "id": "DDU7r25uB8ne",
        "colab": {
          "base_uri": "https://localhost:8080/"
        },
        "outputId": "d9a60a20-402f-4fc8-e8b3-309a28b59b63"
      },
      "source": [
        "# Make a request to https://www.worldometers.info/coronavirus/countries-where-coronavirus-has-spread/\n",
        "page = requests.get(\n",
        "    \"https://www.worldometers.info/coronavirus/countries-where-coronavirus-has-spread/\")\n",
        "\n",
        "soup = BeautifulSoup(page.content, 'html.parser')\n",
        "\n",
        "# Extract title of page\n",
        "page_title = soup.title.text\n",
        "\n",
        "# print the result\n",
        "print(page_title)"
      ],
      "execution_count": null,
      "outputs": [
        {
          "output_type": "stream",
          "text": [
            "Countries where Coronavirus has spread - Worldometer\n"
          ],
          "name": "stdout"
        }
      ]
    },
    {
      "cell_type": "code",
      "metadata": {
        "id": "9Co2_x4tDMPa"
      },
      "source": [
        "#create a dictionary and store the values\n",
        "report={'COUNTRY':[],'CASES':[],'DEATHS':[],'REGION':[]}\n",
        "l1=[]\n",
        "l2=[]\n",
        "l3=[]\n",
        "l4=[]\n",
        "for i in range(500):\n",
        "  l2.append((soup.select('td')[4*i+1].text))\n",
        "  l3.append((soup.select('td')[4*i+2].text))\n",
        "  l4.append(soup.select('td')[4*i+3].text)\n",
        "  if soup.select('td')[4*i].text=='Micronesia':\n",
        "    l1.append(soup.select('td')[4*i].text)\n",
        "    break;\n",
        "  else:\n",
        "    l1.append(soup.select('td')[4*i].text)\n",
        "report['COUNTRY']=l1\n",
        "report['CASES']=l2\n",
        "report['DEATHS']=l3\n",
        "report['REGION']=l4\n",
        "\n",
        "#converting the dictionary into csv file\n",
        "pd.DataFrame(report).to_csv('out.csv', index=False)\n",
        "\n",
        "# CHECK out.csv\n",
        "df = pd.read_csv('out.csv')\n",
        "df\n"
      ],
      "execution_count": null,
      "outputs": []
    },
    {
      "cell_type": "markdown",
      "metadata": {
        "id": "m-_KaJwC_QeI"
      },
      "source": [
        "**Once the csv file is created,we will analyse the data present in it.**"
      ]
    },
    {
      "cell_type": "code",
      "metadata": {
        "id": "5zI6R6VA_VHQ"
      },
      "source": [
        "df = pd.read_csv('out.csv')\n",
        "df"
      ],
      "execution_count": null,
      "outputs": []
    },
    {
      "cell_type": "code",
      "metadata": {
        "id": "WbHlQYLAAFBn"
      },
      "source": [
        "#convert a string containing commas into an integer\n",
        "\n",
        "def convert(s):\n",
        "  c=1\n",
        "  o=\"\"\n",
        "  for i in s:\n",
        "    if i==',':\n",
        "      continue\n",
        "    o=o+i\n",
        "    \n",
        "  return int(o)"
      ],
      "execution_count": null,
      "outputs": []
    },
    {
      "cell_type": "code",
      "metadata": {
        "colab": {
          "base_uri": "https://localhost:8080/",
          "height": 1000
        },
        "id": "QMEg7YZLE99Y",
        "outputId": "9fc95230-db90-4abd-cc5a-536e200a1d12"
      },
      "source": [
        "total_cases=0\n",
        "total_deaths=0\n",
        "max_case_country=\"\"\n",
        "min_case_country=\"\"\n",
        "max_death_country=\"\"\n",
        "min_death_country=\"\"\n",
        "max_cases=0\n",
        "min_cases=100000000000\n",
        "max_deaths=0\n",
        "min_deaths=10000000000\n",
        "continent=['Asia','North America','South America','Africa','Europe','Australia/Oceania','Antarctica','nan']\n",
        "continent_cases=[0,0,0,0,0,0,0,0]\n",
        "continent_deaths=[0,0,0,0,0,0,0,0]\n",
        "\n",
        "#iterating rowwise and extracting necessary information \n",
        "\n",
        "for index, row in df.iterrows():\n",
        "  total_cases +=convert(row['CASES'])\n",
        "  total_deaths +=convert(row['DEATHS'])\n",
        "\n",
        "  if convert(row['CASES'])>max_cases:\n",
        "    max_cases=convert(row['CASES'])\n",
        "    max_case_country=row['COUNTRY']\n",
        "\n",
        "  if convert(row['CASES'])<min_cases:\n",
        "    min_cases=convert(row['CASES'])\n",
        "    min_case_country=row['COUNTRY']\n",
        "\n",
        "  if convert(row['DEATHS'])>max_deaths:\n",
        "    max_deaths=convert(row['DEATHS'])\n",
        "    max_death_country=row['COUNTRY']\n",
        "\n",
        "  if convert(row['DEATHS'])<min_deaths:\n",
        "    min_deaths=convert(row['DEATHS'])\n",
        "    min_death_country=row['COUNTRY']\n",
        "   \n",
        "  try:\n",
        "      continent_cases[continent.index(row['REGION'])]+=convert(row['CASES'])\n",
        "      continent_deaths[continent.index(row['REGION'])]+=convert(row['DEATHS'])\n",
        "  except:p=0\n",
        "\n",
        "\n",
        "#Now lets print all the results\n",
        "print(page_title,\"\\n\\n\")\n",
        "print(\"                    DATA EXTRACTED             \\n\\n \")\n",
        "print(\"TOTAL CASES AROUND THE GLOBE\",total_cases,\"\\n\\n\")\n",
        "print(\"TOTAL DEATHS AROUND THE GLOBE\",total_deaths,\"\\n\\n\")\n",
        "print(\"TOTAL CASES AROUND THE GLOBE\",total_cases,\"\\n\\n\")\n",
        "print(\"MAXIMUM \",max_cases,\" cases in \",max_case_country,\"\\n\\n\")\n",
        "print(\"MINIMUM \",min_cases,\"cases in \",min_case_country,\"\\n\\n\")\n",
        "print(\"MAXIMUM \",max_deaths,\"deaths in \",max_death_country,\"\\n\\n\")\n",
        "print(\"MINIMUM \",min_deaths,\"deaths in \",min_death_country,\"\\n\\n\")\n",
        "\n",
        "\n",
        "\n",
        "\n",
        "#NOW LET'S PLOT\n",
        "import matplotlib.pyplot as plt\n",
        "\n",
        "print(\"\\n\\n\\n CASES:CONTINENTWISE\")\n",
        "plt.figure(figsize=(9,5))\n",
        "plt.bar(continent,continent_cases, color ='b', width = 0.3)\n",
        "plt.ylabel(\"Cases per continent\")\n",
        "\n",
        "plt.figure(figsize =(5, 5)) \n",
        "plt.pie(continent_cases, labels = continent) \n",
        "plt.show()\n",
        "\n",
        "print(\"\\n\\n\\n DEATHS:CONTINENTWISE\")\n",
        "plt.figure(figsize=(9,5))\n",
        "plt.bar(continent,continent_deaths, color ='y', width = 0.3)\n",
        "plt.ylabel(\"Deaths per continent\")\n",
        "\n",
        "plt.figure(figsize =(5, 5)) \n",
        "plt.pie(continent_deaths, labels = continent) \n",
        "plt.show()\n",
        "\n",
        "\n"
      ],
      "execution_count": null,
      "outputs": [
        {
          "output_type": "stream",
          "text": [
            "Countries where Coronavirus has spread - Worldometer \n",
            "\n",
            "\n",
            "                    DATA EXTRACTED             \n",
            "\n",
            " \n",
            "TOTAL CASES AROUND THE GLOBE 123875548 \n",
            "\n",
            "\n",
            "TOTAL DEATHS AROUND THE GLOBE 2728064 \n",
            "\n",
            "\n",
            "TOTAL CASES AROUND THE GLOBE 123875548 \n",
            "\n",
            "\n",
            "MAXIMUM  30521774  cases in  United States \n",
            "\n",
            "\n",
            "MINIMUM  1 cases in  Micronesia \n",
            "\n",
            "\n",
            "MAXIMUM  555314 deaths in  United States \n",
            "\n",
            "\n",
            "MINIMUM  0 deaths in  Timor-Leste \n",
            "\n",
            "\n",
            "\n",
            "\n",
            "\n",
            " CASES:CONTINENTWISE\n"
          ],
          "name": "stdout"
        },
        {
          "output_type": "display_data",
          "data": {
            "image/png": "[encoded data removed]",
            "text/plain": [
              "<Figure size 648x360 with 1 Axes>"
            ]
          },
          "metadata": {
            "tags": [],
            "needs_background": "light"
          }
        },
        {
          "output_type": "display_data",
          "data": {
            "image/png": "[encoded data removed]",
            "text/plain": [
              "<Figure size 360x360 with 1 Axes>"
            ]
          },
          "metadata": {
            "tags": []
          }
        },
        {
          "output_type": "stream",
          "text": [
            "\n",
            "\n",
            "\n",
            " DEATHS:CONTINENTWISE\n"
          ],
          "name": "stdout"
        },
        {
          "output_type": "display_data",
          "data": {
            "image/png": "[encoded data removed]",
            "text/plain": [
              "<Figure size 648x360 with 1 Axes>"
            ]
          },
          "metadata": {
            "tags": [],
            "needs_background": "light"
          }
        },
        {
          "output_type": "display_data",
          "data": {
            "image/png": "[encoded data removed]",
            "text/plain": [
              "<Figure size 360x360 with 1 Axes>"
            ]
          },
          "metadata": {
            "tags": []
          }
        }
      ]
    }
  ]
}